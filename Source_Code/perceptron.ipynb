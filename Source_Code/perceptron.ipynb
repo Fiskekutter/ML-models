{
 "cells": [
  {
   "cell_type": "code",
   "execution_count": 1,
   "metadata": {},
   "outputs": [],
   "source": [
    "import numpy as np\n",
    "from scipy.io import loadmat\n",
    "from sklearn import decomposition\n",
    "from sklearn.metrics import accuracy_score\n",
    "from sklearn.linear_model import SGDClassifier\n",
    "from sklearn.model_selection import train_test_split\n",
    "from sklearn.decomposition import PCA"
   ]
  },
  {
   "cell_type": "markdown",
   "metadata": {},
   "source": [
    "<h3>Load MNIST"
   ]
  },
  {
   "cell_type": "code",
   "execution_count": 2,
   "metadata": {},
   "outputs": [],
   "source": [
    "mnist = loadmat(\"mnist_loaded.mat\")\n",
    "\n",
    "mnist_train_images = mnist['train_images'].transpose()\n",
    "mnist_train_labels = np.concatenate(mnist['train_labels'])\n",
    "mnist_test_images = mnist['test_images'].transpose()\n",
    "mnist_test_labels = np.concatenate(mnist['test_labels'])"
   ]
  },
  {
   "cell_type": "markdown",
   "metadata": {},
   "source": [
    "<h3> Load ORL"
   ]
  },
  {
   "cell_type": "code",
   "execution_count": 3,
   "metadata": {},
   "outputs": [],
   "source": [
    "orl_data = loadmat(\"orl_data.mat\")\n",
    "orl_lbls = loadmat(\"orl_lbls.mat\")\n",
    "orl_data = orl_data['data'].transpose()\n",
    "orl_lbls = orl_lbls['lbls']\n",
    "orl_lbls = orl_lbls.transpose()[0]\n",
    "\n",
    "orl_train_images, orl_test_images, orl_train_lbls, orl_test_lbls = train_test_split(orl_data, orl_lbls, test_size=0.3, random_state=42)"
   ]
  },
  {
   "cell_type": "markdown",
   "metadata": {},
   "source": [
    "<h3> PCA MNIST"
   ]
  },
  {
   "cell_type": "code",
   "execution_count": 4,
   "metadata": {},
   "outputs": [],
   "source": [
    "pca_mnist_train = PCA(n_components=2)\n",
    "pca_mnist_train.fit(mnist_train_images)\n",
    "pca_mnist_train_images = pca_mnist_train.fit_transform(mnist_train_images)\n",
    "\n",
    "pca_mnist_test = PCA(n_components=2)\n",
    "pca_mnist_test.fit(mnist_test_images)\n",
    "pca_mnist_test_images = pca_mnist_test.fit_transform(mnist_test_images)"
   ]
  },
  {
   "cell_type": "markdown",
   "metadata": {},
   "source": [
    "<h3> PCA ORL"
   ]
  },
  {
   "cell_type": "code",
   "execution_count": 5,
   "metadata": {},
   "outputs": [],
   "source": [
    "pca_orl_train = PCA(n_components=2)\n",
    "pca_orl_train.fit(orl_train_images)\n",
    "pca_orl_train_images = pca_orl_train.fit_transform(orl_train_images)\n",
    "\n",
    "pca_orl_test = PCA(n_components=2)\n",
    "pca_orl_test.fit(orl_test_images)\n",
    "pca_orl_test_images = pca_orl_test.fit_transform(orl_test_images)\n"
   ]
  },
  {
   "cell_type": "markdown",
   "metadata": {},
   "source": [
    "<h3>Perceptron with BackPropagation on MNIST"
   ]
  },
  {
   "cell_type": "code",
   "execution_count": 6,
   "metadata": {},
   "outputs": [
    {
     "name": "stdout",
     "output_type": "stream",
     "text": [
      "89.31\n",
      "91.34\n",
      "91.85\n",
      "91.14\n"
     ]
    }
   ],
   "source": [
    "eta0_values_BP = [0.1, 0.01, 0.001, 0.0001]\n",
    "\n",
    "for n in eta0_values_BP:\n",
    "    pcpBP = SGDClassifier(alpha=0, loss=\"hinge\", penalty='l2', learning_rate='constant', eta0=n, max_iter=1000, tol=1e-3, random_state=42)\n",
    "    pcpBP.fit(mnist_train_images, mnist_train_labels)\n",
    "    print(str(accuracy_score(mnist_test_labels, pcpBP.predict(mnist_test_images))*100))"
   ]
  },
  {
   "cell_type": "markdown",
   "metadata": {},
   "source": [
    "<h3>Perceptron with MSE on MNIST"
   ]
  },
  {
   "cell_type": "code",
   "execution_count": 7,
   "metadata": {},
   "outputs": [
    {
     "name": "stdout",
     "output_type": "stream",
     "text": [
      "75.29\n",
      "85.61\n",
      "86.56\n"
     ]
    }
   ],
   "source": [
    "eta0_values_MSE = [0.01, 0.001, 0.0001]\n",
    "\n",
    "for n in eta0_values_MSE:\n",
    "    pcpMSE = SGDClassifier(alpha=0, loss=\"squared_loss\", penalty='l2', learning_rate='constant', eta0=n, max_iter=1000, tol=1e-3, random_state=42)\n",
    "    pcpMSE.fit(mnist_train_images, mnist_train_labels)\n",
    "    print(str(accuracy_score(mnist_test_labels, pcpMSE.predict(mnist_test_images))*100))\n"
   ]
  },
  {
   "cell_type": "markdown",
   "metadata": {},
   "source": [
    "<h3>Perceptron with Backpropagation on ORL"
   ]
  },
  {
   "cell_type": "code",
   "execution_count": 8,
   "metadata": {},
   "outputs": [
    {
     "name": "stdout",
     "output_type": "stream",
     "text": [
      "90.83333333333333\n",
      "94.16666666666667\n",
      "75.83333333333333\n",
      "13.333333333333334\n"
     ]
    }
   ],
   "source": [
    "eta0_values_BP = [0.1, 0.01, 0.001, 0.0001]\n",
    "\n",
    "for n in eta0_values_BP:\n",
    "    pcpBP = SGDClassifier(alpha=0, loss=\"hinge\", penalty='l2', learning_rate='constant', eta0=n, max_iter=1000, tol=1e-3, random_state=42)\n",
    "    pcpBP.fit(orl_train_images, orl_train_lbls)\n",
    "    print(str(accuracy_score(orl_test_lbls, pcpBP.predict(orl_test_images))*100))"
   ]
  },
  {
   "cell_type": "markdown",
   "metadata": {},
   "source": [
    "<h3> Perceptron with MSE on ORL"
   ]
  },
  {
   "cell_type": "code",
   "execution_count": 9,
   "metadata": {},
   "outputs": [
    {
     "name": "stdout",
     "output_type": "stream",
     "text": [
      "2.5\n",
      "80.0\n",
      "35.833333333333336\n"
     ]
    }
   ],
   "source": [
    "eta0_values_MSE = [0.01, 0.001, 0.0001]\n",
    "\n",
    "for n in eta0_values_MSE:\n",
    "    pcpMSE = SGDClassifier(alpha=0, loss=\"squared_loss\", penalty='l2', learning_rate='constant', eta0=n, max_iter=1000, tol=1e-3, random_state=42)\n",
    "    pcpMSE.fit(orl_train_images, orl_train_lbls)\n",
    "    print(str(accuracy_score(orl_test_lbls, pcpMSE.predict(orl_test_images))*100))"
   ]
  },
  {
   "cell_type": "markdown",
   "metadata": {},
   "source": [
    "<h3> Perceptron with Backpropagation on MNIST PCA"
   ]
  },
  {
   "cell_type": "code",
   "execution_count": 10,
   "metadata": {},
   "outputs": [
    {
     "name": "stdout",
     "output_type": "stream",
     "text": [
      "17.19\n",
      "20.18\n",
      "20.77\n",
      "23.68\n"
     ]
    }
   ],
   "source": [
    "eta0_values_BP = [0.1, 0.01, 0.001, 0.0001]\n",
    "\n",
    "for n in eta0_values_BP:\n",
    "    pcpBP = SGDClassifier(alpha=0, loss=\"hinge\", penalty='l2', learning_rate='constant', eta0=n, max_iter=1000, tol=1e-3, random_state=42)\n",
    "    pcpBP.fit(pca_mnist_train_images, mnist_train_labels)\n",
    "    print(str(accuracy_score(mnist_test_labels, pcpBP.predict(pca_mnist_test_images))*100))"
   ]
  },
  {
   "cell_type": "markdown",
   "metadata": {},
   "source": [
    "<h3> Perceptron with MSE on MNIST PCA"
   ]
  },
  {
   "cell_type": "code",
   "execution_count": 11,
   "metadata": {},
   "outputs": [
    {
     "name": "stdout",
     "output_type": "stream",
     "text": [
      "18.59\n",
      "13.639999999999999\n",
      "14.29\n"
     ]
    }
   ],
   "source": [
    "eta0_values_MSE = [0.01, 0.001, 0.0001]\n",
    "\n",
    "for n in eta0_values_MSE:\n",
    "    pcpMSE = SGDClassifier(alpha=0, loss=\"squared_loss\", penalty='l2', learning_rate='constant', eta0=n, max_iter=1000, tol=1e-3, random_state=42)\n",
    "    pcpMSE.fit(pca_mnist_train_images, mnist_train_labels)\n",
    "    print(str(accuracy_score(mnist_test_labels, pcpMSE.predict(pca_mnist_test_images))*100))"
   ]
  },
  {
   "cell_type": "markdown",
   "metadata": {},
   "source": [
    "<h3> Perceptron with Backpropagation on ORL PCA"
   ]
  },
  {
   "cell_type": "code",
   "execution_count": 12,
   "metadata": {},
   "outputs": [
    {
     "name": "stdout",
     "output_type": "stream",
     "text": [
      "0.0\n",
      "4.166666666666666\n",
      "0.8333333333333334\n",
      "0.8333333333333334\n"
     ]
    }
   ],
   "source": [
    "eta0_values_BP = [0.1, 0.01, 0.001, 0.0001]\n",
    "\n",
    "for n in eta0_values_BP:\n",
    "    pcpBP = SGDClassifier(alpha=0, loss=\"hinge\", penalty='l2', learning_rate='constant', eta0=n, max_iter=1000, tol=1e-3, random_state=42)\n",
    "    pcpBP.fit(pca_orl_train_images, orl_train_lbls)\n",
    "    print(str(accuracy_score(orl_test_lbls, pcpBP.predict(pca_orl_test_images))*100))"
   ]
  },
  {
   "cell_type": "markdown",
   "metadata": {},
   "source": [
    "<h3> Perceptron with MSE on ORL PCA"
   ]
  },
  {
   "cell_type": "code",
   "execution_count": 13,
   "metadata": {},
   "outputs": [
    {
     "name": "stdout",
     "output_type": "stream",
     "text": [
      "0.0\n",
      "0.0\n",
      "0.0\n"
     ]
    }
   ],
   "source": [
    "eta0_values_MSE = [0.01, 0.001, 0.0001]\n",
    "\n",
    "for n in eta0_values_MSE:\n",
    "    pcpMSE = SGDClassifier(alpha=0, loss=\"squared_loss\", penalty='l2', learning_rate='constant', eta0=n, max_iter=1000, tol=1e-3, random_state=42)\n",
    "    pcpMSE.fit(pca_orl_train_images, orl_train_lbls)\n",
    "    print(str(accuracy_score(orl_test_lbls, pcpMSE.predict(pca_orl_test_images))*100))"
   ]
  }
 ],
 "metadata": {
  "interpreter": {
   "hash": "a31fc9261620ba102d4ebfb13559b082afd0fbf9625dbabad53e5a549d221d3e"
  },
  "kernelspec": {
   "display_name": "Python 3.8.8 64-bit ('base': conda)",
   "language": "python",
   "name": "python3"
  },
  "language_info": {
   "codemirror_mode": {
    "name": "ipython",
    "version": 3
   },
   "file_extension": ".py",
   "mimetype": "text/x-python",
   "name": "python",
   "nbconvert_exporter": "python",
   "pygments_lexer": "ipython3",
   "version": "3.8.8"
  },
  "orig_nbformat": 4
 },
 "nbformat": 4,
 "nbformat_minor": 2
}
